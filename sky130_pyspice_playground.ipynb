{
  "cells": [
    {
      "cell_type": "markdown",
      "metadata": {
        "id": "view-in-github",
        "colab_type": "text"
      },
      "source": [
        "<a href=\"https://colab.research.google.com/github/Ren-Ps/sky130_gm_id_method/blob/main/sky130_pyspice_playground.ipynb\" target=\"_parent\"><img src=\"https://colab.research.google.com/assets/colab-badge.svg\" alt=\"Open In Colab\"/></a>"
      ]
    },
    {
      "cell_type": "markdown",
      "metadata": {
        "id": "9quLG8jhYqwq"
      },
      "source": [
        "# SKY130 PySpice playground\n",
        "\n",
        "```\n",
        "Copyright 2022 Google LLC.\n",
        "SPDX-License-Identifier: Apache-2.0\n",
        "```\n",
        "\n",
        "Analyse behavior of spice models from the [open source SKY130 PDK](https://github.com/google/skywater-pdk/) using [PySpice](https://pyspice.fabrice-salvaire.fr/)."
      ]
    },
    {
      "cell_type": "markdown",
      "metadata": {
        "id": "xXTLUi3t9Ez7",
        "jp-MarkdownHeadingCollapsed": true,
        "tags": []
      },
      "source": [
        "## Setup"
      ]
    },
    {
      "cell_type": "code",
      "execution_count": null,
      "metadata": {
        "id": "yEJCPg3Ylyk4",
        "colab": {
          "base_uri": "https://localhost:8080/",
          "height": 250,
          "referenced_widgets": [
            "478f6dc83acf4691833eb0759f70c2f0",
            "c5be23d51e5c4ae1ab382fd61929345a",
            "d87cd3e4a97d4063bd321ce131ac8285",
            "5f5b37c7f33e462b83761bd30cdef2b1",
            "9940cd0b302c4357ba7b25992543c416"
          ]
        },
        "outputId": "65cc44c9-e43b-467f-9a83-5a69bc1ae4a0"
      },
      "outputs": [
        {
          "output_type": "stream",
          "name": "stdout",
          "text": [
            "\u001b[?25l\r\u001b[K     - 10 kB 20.7 MB/s\r\u001b[K     \\ 16 kB 1.0 MB/s\r\u001b[K     | 26 kB 1.5 MB/s\r\u001b[K     / 32 kB 2.0 MB/s\r\u001b[K     - 35 kB 2.5 MB/s\n",
            "\u001b[?25h  Installing build dependencies ... \u001b[?25l\u001b[?25hdone\n",
            "  Getting requirements to build wheel ... \u001b[?25l\u001b[?25hdone\n",
            "    Preparing wheel metadata ... \u001b[?25l\u001b[?25hdone\n",
            "  Building wheel for condacolab (PEP 517) ... \u001b[?25l\u001b[?25hdone\n",
            "⏬ Downloading https://github.com/jaimergp/miniforge/releases/latest/download/Mambaforge-colab-Linux-x86_64.sh...\n",
            "📦 Installing...\n",
            "📌 Adjusting configuration...\n",
            "🩹 Patching environment...\n",
            "⏲ Done in 0:00:23\n",
            "🔁 Please restart kernel...\n"
          ]
        },
        {
          "output_type": "display_data",
          "data": {
            "text/plain": [
              "Button(description='Restart kernel now...', style=ButtonStyle())"
            ],
            "application/vnd.jupyter.widget-view+json": {
              "version_major": 2,
              "version_minor": 0,
              "model_id": "478f6dc83acf4691833eb0759f70c2f0"
            }
          },
          "metadata": {}
        },
        {
          "output_type": "display_data",
          "data": {
            "text/plain": [
              "Output(layout=Layout(border='1px solid black'))"
            ],
            "application/vnd.jupyter.widget-view+json": {
              "version_major": 2,
              "version_minor": 0,
              "model_id": "5f5b37c7f33e462b83761bd30cdef2b1"
            }
          },
          "metadata": {}
        }
      ],
      "source": [
        "#@title Bootstrap conda environment {display-mode: \"form\"}\n",
        "#@markdown - Click the ▷ button to initialize the conda-eda environment.\n",
        "#@markdown - Wait for the installation to complete\n",
        "#@markdown - Click the `Restart Kernel` button.\n",
        "%pip install -q https://github.com/conda-incubator/condacolab/archive/28521d7c5c494dd6377bb072d97592e30c44609c.tar.gz\n",
        "import condacolab\n",
        "\n",
        "condacolab.install(restart_kernel=False)"
      ]
    },
    {
      "cell_type": "markdown",
      "source": [
        "## Install dependencies\n",
        "\n",
        "- Wait for the kernel restart to complete.\n",
        "- Click the ▷ button below to run the hidden cells to complete the setup.\n"
      ],
      "metadata": {
        "id": "nnYuGJqje4BF"
      }
    },
    {
      "cell_type": "code",
      "execution_count": null,
      "metadata": {
        "id": "cq1i8DvzzeCN",
        "colab": {
          "base_uri": "https://localhost:8080/"
        },
        "outputId": "f048c606-4d3e-4d1c-c016-46ee00dc9ccf"
      },
      "outputs": [
        {
          "output_type": "stream",
          "name": "stdout",
          "text": [
            "Overwriting environment.yml\n"
          ]
        }
      ],
      "source": [
        "%%writefile environment.yml\n",
        "channels:\n",
        "  - litex-hub\n",
        "  - conda-forge\n",
        "dependencies:\n",
        "  - open_pdks.sky130a\n",
        "  - pyspice\n",
        "  - tqdm"
      ]
    },
    {
      "cell_type": "code",
      "execution_count": null,
      "metadata": {
        "id": "xux9RoEcBFDl",
        "colab": {
          "base_uri": "https://localhost:8080/"
        },
        "outputId": "2fa1b27f-eac2-4068-f3eb-1851edbe755b"
      },
      "outputs": [
        {
          "output_type": "stream",
          "name": "stdout",
          "text": [
            "conda-forge/linux-64                                        Using cache\n",
            "conda-forge/noarch                                          Using cache\n",
            "\u001b[?25l\u001b[2K\u001b[0G[+] 0.0s\n",
            "\u001b[2K\u001b[1A\u001b[2K\u001b[0G[+] 0.1s\n",
            "litex-hub/linux-64  ⣾  \n",
            "litex-hub/noarch    ⣾  \u001b[2K\u001b[1A\u001b[2K\u001b[1A\u001b[2K\u001b[0G[+] 0.2s\n",
            "litex-hub/linux-64  ⣾  \n",
            "litex-hub/noarch    ⣾  \u001b[2K\u001b[1A\u001b[2K\u001b[1A\u001b[2K\u001b[0Glitex-hub/noarch                                              No change\n",
            "litex-hub/linux-64                                            No change\n",
            "\u001b[?25h\n",
            "\n",
            "Looking for: ['open_pdks.sky130a', 'pyspice', 'tqdm']\n",
            "\n",
            "\n",
            "\n",
            "  Pinned packages:\n",
            "\n",
            "  - python 3.7.*\n",
            "  - python_abi 3.7.* *cp37*\n",
            "  - cudatoolkit 11.2.*\n",
            "\n",
            "\n",
            "Transaction\n",
            "\n",
            "  Prefix: /usr/local\n",
            "\n",
            "  Updating specs:\n",
            "\n",
            "   - open_pdks.sky130a\n",
            "   - pyspice\n",
            "   - tqdm\n",
            "\n",
            "\n",
            "  Package                         Version  Build            Channel                Size\n",
            "─────────────────────────────────────────────────────────────────────────────────────────\n",
            "  Change:\n",
            "─────────────────────────────────────────────────────────────────────────────────────────\n",
            "\n",
            "\u001b[31m  - open_pdks.sky130a\u001b[00m  1.0.342_0_gde752ec  20220921_210118  litex-hub                  \n",
            "\u001b[32m  + open_pdks.sky130a\u001b[00m  1.0.342_0_gde752ec  20220921_210118  litex-hub/noarch\u001b[32m     Cached\u001b[00m\n",
            "\n",
            "  Summary:\n",
            "\n",
            "  Change: 1 packages\n",
            "\n",
            "  Total download: 0 B\n",
            "\n",
            "─────────────────────────────────────────────────────────────────────────────────────────\n",
            "\n",
            "\u001b[?25l\u001b[2K\u001b[0G\u001b[?25hPreparing transaction: - \b\bdone\n",
            "Verifying transaction: | \b\bdone\n",
            "Executing transaction: - \b\bdone\n",
            "#\n",
            "# To activate this environment, use\n",
            "#\n",
            "#     $ conda activate base\n",
            "#\n",
            "# To deactivate an active environment, use\n",
            "#\n",
            "#     $ conda deactivate\n",
            "\n",
            "Retrieving notices: ...working... done\n"
          ]
        }
      ],
      "source": [
        "!mamba env update -n base -f environment.yml"
      ]
    },
    {
      "cell_type": "markdown",
      "metadata": {
        "id": "YZdXQnCJ9h_o"
      },
      "source": [
        "## Simulate nfet_01v8 with PySpice"
      ]
    },
    {
      "cell_type": "markdown",
      "source": [
        "### Define circuit"
      ],
      "metadata": {
        "id": "fv9-1vo-NTNi"
      }
    },
    {
      "cell_type": "code",
      "source": [
        "import PySpice.Spice.Simulation\n",
        "PySpice.Spice.Simulation.CircuitSimulator.DEFAULT_SIMULATOR = 'ngspice-shared'\n",
        "\n",
        "from PySpice.Spice.Netlist import Circuit\n",
        "from PySpice.Unit import *\n",
        "\n",
        "def sky130_circuit(cell, vdd, w, l):\n",
        "  circuit = Circuit('nfet_01v8')\n",
        "  circuit.lib('/usr/local/share/pdk/sky130A/libs.tech/ngspice/sky130.lib.spice', 'tt')\n",
        "  Vgate = circuit.V('gate', 'vg', circuit.gnd, 0@u_V)\n",
        "  Vdrain = circuit.V('drain', 'vdd', circuit.gnd, u_V(vdd))\n",
        "  circuit.X('cell', cell, 'vdd', 'vg', circuit.gnd, circuit.gnd, w=w, l=l)\n",
        "  return circuit\n",
        "\n",
        "circuit = sky130_circuit('sky130_fd_pr__nfet_01v8', 1.8, w=10, l=1.15)\n",
        "print(str(circuit))"
      ],
      "metadata": {
        "colab": {
          "base_uri": "https://localhost:8080/"
        },
        "id": "dwztw8FbKVCi",
        "outputId": "19bcc38a-af1f-4e88-de95-8e8bd12da32f"
      },
      "execution_count": null,
      "outputs": [
        {
          "output_type": "stream",
          "name": "stdout",
          "text": [
            ".title nfet_01v8\n",
            ".lib /usr/local/share/pdk/sky130A/libs.tech/ngspice/sky130.lib.spice tt\n",
            "Vgate vg 0 0V\n",
            "Vdrain vdd 0 1.8V\n",
            "Xcell vdd vg 0 0 sky130_fd_pr__nfet_01v8 l=1.15 w=10\n",
            "\n"
          ]
        }
      ]
    },
    {
      "cell_type": "markdown",
      "source": [
        "### Run simulation"
      ],
      "metadata": {
        "id": "8SCYi5ZBM9Ra"
      }
    },
    {
      "cell_type": "code",
      "source": [
        "import PySpice.Spice.Simulation\n",
        "PySpice.Spice.Simulation.CircuitSimulator.DEFAULT_SIMULATOR = 'ngspice-shared'\n",
        "\n",
        "def sky130_simulate_dc(cell, sweep, **kwargs):\n",
        "  circuit = sky130_circuit(cell, sweep.stop, **kwargs)\n",
        "  simulator = circuit.simulator(temperature=25, nominal_temperature=25)\n",
        "  analysis = simulator.dc(Vgate=sweep)\n",
        "  vgs = analysis['vg']\n",
        "  id = u_mA(-analysis.Vdrain)\n",
        "  return (vgs, id)\n",
        "\n",
        "vgs, id = sky130_simulate_dc('sky130_fd_pr__nfet_01v8',\n",
        "                             sweep=slice(0, 1.8, .01),\n",
        "                             w=10, l=0.15)\n",
        "\n",
        "%matplotlib inline\n",
        "import matplotlib.pyplot as plt\n",
        "\n",
        "figure, ax = plt.subplots(figsize=(20, 10))\n",
        "ax.plot(vgs, id)\n",
        "ax.legend('nfet_01v8')\n",
        "ax.grid()\n",
        "ax.set_xlabel('Vgs [V]')\n",
        "ax.set_ylabel('Id [mA]')\n",
        "\n",
        "plt.tight_layout()\n",
        "plt.show()"
      ],
      "metadata": {
        "colab": {
          "base_uri": "https://localhost:8080/",
          "height": 748
        },
        "id": "DvonXyf0Mjrw",
        "outputId": "8c6124e6-806f-465c-c688-ae9b86a9aed6"
      },
      "execution_count": null,
      "outputs": [
        {
          "output_type": "stream",
          "name": "stderr",
          "text": [
            "Unsupported Ngspice version 37\n"
          ]
        },
        {
          "output_type": "display_data",
          "data": {
            "text/plain": [
              "<Figure size 1440x720 with 1 Axes>"
            ],
            "image/png": "[encoded data removed]"
          },
          "metadata": {
            "needs_background": "light"
          }
        }
      ]
    },
    {
      "cell_type": "code",
      "source": [
        "%matplotlib inline\n",
        "import itertools\n",
        "import numpy as np\n",
        "import tqdm.notebook as tqdm\n",
        "import matplotlib.pyplot as plt\n",
        "import PySpice.Math.Calculus\n",
        "\n",
        "def sky130_simulate_dc(cell, bias, sweep, w, l):\n",
        "  circuit = sky130_circuit(cell, bias, w=w, l=l)\n",
        "  simulator = circuit.simulator(temperature=25, nominal_temperature=25)\n",
        "  analysis = simulator.dc(Vgate=sweep)\n",
        "  vgs = analysis['vg']\n",
        "  id = u_mA(-analysis.Vdrain)\n",
        "  return (vgs, id)\n",
        "\n",
        "ws = [1]\n",
        "ls = np.arange(0.15, 1, 0.15)\n",
        "\n",
        "figure, ax = plt.subplots(figsize=(20, 10))\n",
        "ax.legend('nfet_01v8')\n",
        "ax.grid()\n",
        "ax.set_xlabel('Vgs [V]')\n",
        "ax.set_ylabel('Id [mA]')\n",
        "ax.set_yscale('log')\n",
        "\n",
        "for w, l in tqdm.tqdm(itertools.product(ws, ls), total=len(ws)*len(ls)):\n",
        "  vgs, id = sky130_simulate_dc('sky130_fd_pr__nfet_01v8',\n",
        "                               bias=0.1,\n",
        "                               sweep=slice(0, 1.8, .01),\n",
        "                               w=w, l=l)\n",
        "  #ddid = PySpice.Math.Calculus.derivative(vgs, id, 2)\n",
        "  ax.plot(vgs, id)\n",
        "\n",
        "plt.tight_layout()\n",
        "plt.show()"
      ],
      "metadata": {
        "colab": {
          "base_uri": "https://localhost:8080/",
          "height": 761,
          "referenced_widgets": [
            "87b632a5e19e48c797d0d8474f64c26f",
            "fef04e8356c146828aa258023f408dee",
            "3d9e374cd6444878a71183ee577df139",
            "0a2f6da3c405400dbf42e05453fc056a",
            "e94e03b1788f40e1a59e8cbd622f8e91",
            "e47dccf1243c4c75850f8797387a402b",
            "a2edfb6cbed54f01aee1f1ece17baa4f",
            "ce2268e57bbe42baaea9dbd8f901bac8",
            "cdf29856a956477f83f64b8726823215",
            "bd6eaa91b8964ecf8537834ed0df2839",
            "1b6f1157a1084035b0d26d8a6005ebf3"
          ]
        },
        "id": "q0XHBAt1jGmQ",
        "outputId": "70bfd016-1a12-4380-985f-d8e7ec36e906"
      },
      "execution_count": null,
      "outputs": [
        {
          "output_type": "display_data",
          "data": {
            "text/plain": [
              "  0%|          | 0/6 [00:00<?, ?it/s]"
            ],
            "application/vnd.jupyter.widget-view+json": {
              "version_major": 2,
              "version_minor": 0,
              "model_id": "87b632a5e19e48c797d0d8474f64c26f"
            }
          },
          "metadata": {}
        },
        {
          "output_type": "display_data",
          "data": {
            "text/plain": [
              "<Figure size 1440x720 with 1 Axes>"
            ],
            "image/png": "[encoded data removed]"
          },
          "metadata": {
            "needs_background": "light"
          }
        }
      ]
    },
    {
      "cell_type": "markdown",
      "source": [
        "### Run OP simulations across device parameters sweep"
      ],
      "metadata": {
        "id": "H1Z5Ro7nPKdp"
      }
    },
    {
      "cell_type": "code",
      "execution_count": null,
      "metadata": {
        "colab": {
          "base_uri": "https://localhost:8080/",
          "height": 927,
          "referenced_widgets": [
            "c6671669a12d4326982360ae0b60a8b4",
            "768c0e2b292d4ffb9058fa219394468f",
            "66a1bb73330b472aaf0d2e6d84bca23d",
            "a0408b69b6de4a35952495371ada07c1",
            "7997e828384247509de2585488224bbe",
            "e1aed4086666454494ef83e976b81aa9",
            "f1d306c056c8449d9223cb68f4868c7b",
            "eb723af80dfd40f3b725a7ca5c38436e",
            "7230f579de5f43f5ba8f220843eba3a5",
            "89d39094f0da4e05bd46462d1e5c0479",
            "19e589cf45c34f92974a91ec1b2efda0"
          ]
        },
        "id": "9scIFl1w7Lk6",
        "outputId": "7c87c803-de32-4f31-ecca-1c9c0a419045"
      },
      "outputs": [
        {
          "output_type": "display_data",
          "data": {
            "text/plain": [
              "  0%|          | 0/27 [00:00<?, ?it/s]"
            ],
            "application/vnd.jupyter.widget-view+json": {
              "version_major": 2,
              "version_minor": 0,
              "model_id": "c6671669a12d4326982360ae0b60a8b4"
            }
          },
          "metadata": {}
        },
        {
          "output_type": "execute_result",
          "data": {
            "text/plain": [
              "     W       L            ID\n",
              "0   10    0.15  2.419442e-12\n",
              "1   10    0.17  3.851131e-12\n",
              "2   10    0.18  4.336873e-12\n",
              "3   10    0.19  4.701383e-12\n",
              "4   10    0.24  3.068402e-12\n",
              "5   10    0.25  2.854586e-12\n",
              "6   10    0.26  2.871755e-12\n",
              "7   10    0.40  2.861234e-12\n",
              "8   10    0.50  2.773280e-12\n",
              "9   10    0.60  2.699133e-12\n",
              "10  10    0.90  2.622976e-12\n",
              "11  10    1.00  2.598605e-12\n",
              "12  10    1.10  2.616716e-12\n",
              "13  10    1.90  2.560839e-12\n",
              "14  10    2.00  2.545918e-12\n",
              "15  10    2.10  2.526172e-12\n",
              "16  10    3.90  2.281745e-12\n",
              "17  10    4.00  2.272694e-12\n",
              "18  10    4.10  2.266206e-12\n",
              "19  10    7.00  2.129271e-12\n",
              "20  10    8.00  2.098448e-12\n",
              "21  10    9.00  2.069151e-12\n",
              "22  10   15.00  1.970890e-12\n",
              "23  10   20.00  1.932221e-12\n",
              "24  10   25.00  1.908529e-12\n",
              "25  10   90.00  1.837982e-12\n",
              "26  10  100.00  1.835205e-12"
            ],
            "text/html": [
              "\n",
              "  <div id=\"df-f3ec6cd9-0241-4e3e-bf6f-39462c2500ab\">\n",
              "    <div class=\"colab-df-container\">\n",
              "      <div>\n",
              "<style scoped>\n",
              "    .dataframe tbody tr th:only-of-type {\n",
              "        vertical-align: middle;\n",
              "    }\n",
              "\n",
              "    .dataframe tbody tr th {\n",
              "        vertical-align: top;\n",
              "    }\n",
              "\n",
              "    .dataframe thead th {\n",
              "        text-align: right;\n",
              "    }\n",
              "</style>\n",
              "<table border=\"1\" class=\"dataframe\">\n",
              "  <thead>\n",
              "    <tr style=\"text-align: right;\">\n",
              "      <th></th>\n",
              "      <th>W</th>\n",
              "      <th>L</th>\n",
              "      <th>ID</th>\n",
              "    </tr>\n",
              "  </thead>\n",
              "  <tbody>\n",
              "    <tr>\n",
              "      <th>0</th>\n",
              "      <td>10</td>\n",
              "      <td>0.15</td>\n",
              "      <td>2.419442e-12</td>\n",
              "    </tr>\n",
              "    <tr>\n",
              "      <th>1</th>\n",
              "      <td>10</td>\n",
              "      <td>0.17</td>\n",
              "      <td>3.851131e-12</td>\n",
              "    </tr>\n",
              "    <tr>\n",
              "      <th>2</th>\n",
              "      <td>10</td>\n",
              "      <td>0.18</td>\n",
              "      <td>4.336873e-12</td>\n",
              "    </tr>\n",
              "    <tr>\n",
              "      <th>3</th>\n",
              "      <td>10</td>\n",
              "      <td>0.19</td>\n",
              "      <td>4.701383e-12</td>\n",
              "    </tr>\n",
              "    <tr>\n",
              "      <th>4</th>\n",
              "      <td>10</td>\n",
              "      <td>0.24</td>\n",
              "      <td>3.068402e-12</td>\n",
              "    </tr>\n",
              "    <tr>\n",
              "      <th>5</th>\n",
              "      <td>10</td>\n",
              "      <td>0.25</td>\n",
              "      <td>2.854586e-12</td>\n",
              "    </tr>\n",
              "    <tr>\n",
              "      <th>6</th>\n",
              "      <td>10</td>\n",
              "      <td>0.26</td>\n",
              "      <td>2.871755e-12</td>\n",
              "    </tr>\n",
              "    <tr>\n",
              "      <th>7</th>\n",
              "      <td>10</td>\n",
              "      <td>0.40</td>\n",
              "      <td>2.861234e-12</td>\n",
              "    </tr>\n",
              "    <tr>\n",
              "      <th>8</th>\n",
              "      <td>10</td>\n",
              "      <td>0.50</td>\n",
              "      <td>2.773280e-12</td>\n",
              "    </tr>\n",
              "    <tr>\n",
              "      <th>9</th>\n",
              "      <td>10</td>\n",
              "      <td>0.60</td>\n",
              "      <td>2.699133e-12</td>\n",
              "    </tr>\n",
              "    <tr>\n",
              "      <th>10</th>\n",
              "      <td>10</td>\n",
              "      <td>0.90</td>\n",
              "      <td>2.622976e-12</td>\n",
              "    </tr>\n",
              "    <tr>\n",
              "      <th>11</th>\n",
              "      <td>10</td>\n",
              "      <td>1.00</td>\n",
              "      <td>2.598605e-12</td>\n",
              "    </tr>\n",
              "    <tr>\n",
              "      <th>12</th>\n",
              "      <td>10</td>\n",
              "      <td>1.10</td>\n",
              "      <td>2.616716e-12</td>\n",
              "    </tr>\n",
              "    <tr>\n",
              "      <th>13</th>\n",
              "      <td>10</td>\n",
              "      <td>1.90</td>\n",
              "      <td>2.560839e-12</td>\n",
              "    </tr>\n",
              "    <tr>\n",
              "      <th>14</th>\n",
              "      <td>10</td>\n",
              "      <td>2.00</td>\n",
              "      <td>2.545918e-12</td>\n",
              "    </tr>\n",
              "    <tr>\n",
              "      <th>15</th>\n",
              "      <td>10</td>\n",
              "      <td>2.10</td>\n",
              "      <td>2.526172e-12</td>\n",
              "    </tr>\n",
              "    <tr>\n",
              "      <th>16</th>\n",
              "      <td>10</td>\n",
              "      <td>3.90</td>\n",
              "      <td>2.281745e-12</td>\n",
              "    </tr>\n",
              "    <tr>\n",
              "      <th>17</th>\n",
              "      <td>10</td>\n",
              "      <td>4.00</td>\n",
              "      <td>2.272694e-12</td>\n",
              "    </tr>\n",
              "    <tr>\n",
              "      <th>18</th>\n",
              "      <td>10</td>\n",
              "      <td>4.10</td>\n",
              "      <td>2.266206e-12</td>\n",
              "    </tr>\n",
              "    <tr>\n",
              "      <th>19</th>\n",
              "      <td>10</td>\n",
              "      <td>7.00</td>\n",
              "      <td>2.129271e-12</td>\n",
              "    </tr>\n",
              "    <tr>\n",
              "      <th>20</th>\n",
              "      <td>10</td>\n",
              "      <td>8.00</td>\n",
              "      <td>2.098448e-12</td>\n",
              "    </tr>\n",
              "    <tr>\n",
              "      <th>21</th>\n",
              "      <td>10</td>\n",
              "      <td>9.00</td>\n",
              "      <td>2.069151e-12</td>\n",
              "    </tr>\n",
              "    <tr>\n",
              "      <th>22</th>\n",
              "      <td>10</td>\n",
              "      <td>15.00</td>\n",
              "      <td>1.970890e-12</td>\n",
              "    </tr>\n",
              "    <tr>\n",
              "      <th>23</th>\n",
              "      <td>10</td>\n",
              "      <td>20.00</td>\n",
              "      <td>1.932221e-12</td>\n",
              "    </tr>\n",
              "    <tr>\n",
              "      <th>24</th>\n",
              "      <td>10</td>\n",
              "      <td>25.00</td>\n",
              "      <td>1.908529e-12</td>\n",
              "    </tr>\n",
              "    <tr>\n",
              "      <th>25</th>\n",
              "      <td>10</td>\n",
              "      <td>90.00</td>\n",
              "      <td>1.837982e-12</td>\n",
              "    </tr>\n",
              "    <tr>\n",
              "      <th>26</th>\n",
              "      <td>10</td>\n",
              "      <td>100.00</td>\n",
              "      <td>1.835205e-12</td>\n",
              "    </tr>\n",
              "  </tbody>\n",
              "</table>\n",
              "</div>\n",
              "      <button class=\"colab-df-convert\" onclick=\"convertToInteractive('df-f3ec6cd9-0241-4e3e-bf6f-39462c2500ab')\"\n",
              "              title=\"Convert this dataframe to an interactive table.\"\n",
              "              style=\"display:none;\">\n",
              "        \n",
              "  <svg xmlns=\"http://www.w3.org/2000/svg\" height=\"24px\"viewBox=\"0 0 24 24\"\n",
              "       width=\"24px\">\n",
              "    <path d=\"M0 0h24v24H0V0z\" fill=\"none\"/>\n",
              "    <path d=\"M18.56 5.44l.94 2.06.94-2.06 2.06-.94-2.06-.94-.94-2.06-.94 2.06-2.06.94zm-11 1L8.5 8.5l.94-2.06 2.06-.94-2.06-.94L8.5 2.5l-.94 2.06-2.06.94zm10 10l.94 2.06.94-2.06 2.06-.94-2.06-.94-.94-2.06-.94 2.06-2.06.94z\"/><path d=\"M17.41 7.96l-1.37-1.37c-.4-.4-.92-.59-1.43-.59-.52 0-1.04.2-1.43.59L10.3 9.45l-7.72 7.72c-.78.78-.78 2.05 0 2.83L4 21.41c.39.39.9.59 1.41.59.51 0 1.02-.2 1.41-.59l7.78-7.78 2.81-2.81c.8-.78.8-2.07 0-2.86zM5.41 20L4 18.59l7.72-7.72 1.47 1.35L5.41 20z\"/>\n",
              "  </svg>\n",
              "      </button>\n",
              "      \n",
              "  <style>\n",
              "    .colab-df-container {\n",
              "      display:flex;\n",
              "      flex-wrap:wrap;\n",
              "      gap: 12px;\n",
              "    }\n",
              "\n",
              "    .colab-df-convert {\n",
              "      background-color: #E8F0FE;\n",
              "      border: none;\n",
              "      border-radius: 50%;\n",
              "      cursor: pointer;\n",
              "      display: none;\n",
              "      fill: #1967D2;\n",
              "      height: 32px;\n",
              "      padding: 0 0 0 0;\n",
              "      width: 32px;\n",
              "    }\n",
              "\n",
              "    .colab-df-convert:hover {\n",
              "      background-color: #E2EBFA;\n",
              "      box-shadow: 0px 1px 2px rgba(60, 64, 67, 0.3), 0px 1px 3px 1px rgba(60, 64, 67, 0.15);\n",
              "      fill: #174EA6;\n",
              "    }\n",
              "\n",
              "    [theme=dark] .colab-df-convert {\n",
              "      background-color: #3B4455;\n",
              "      fill: #D2E3FC;\n",
              "    }\n",
              "\n",
              "    [theme=dark] .colab-df-convert:hover {\n",
              "      background-color: #434B5C;\n",
              "      box-shadow: 0px 1px 3px 1px rgba(0, 0, 0, 0.15);\n",
              "      filter: drop-shadow(0px 1px 2px rgba(0, 0, 0, 0.3));\n",
              "      fill: #FFFFFF;\n",
              "    }\n",
              "  </style>\n",
              "\n",
              "      <script>\n",
              "        const buttonEl =\n",
              "          document.querySelector('#df-f3ec6cd9-0241-4e3e-bf6f-39462c2500ab button.colab-df-convert');\n",
              "        buttonEl.style.display =\n",
              "          google.colab.kernel.accessAllowed ? 'block' : 'none';\n",
              "\n",
              "        async function convertToInteractive(key) {\n",
              "          const element = document.querySelector('#df-f3ec6cd9-0241-4e3e-bf6f-39462c2500ab');\n",
              "          const dataTable =\n",
              "            await google.colab.kernel.invokeFunction('convertToInteractive',\n",
              "                                                     [key], {});\n",
              "          if (!dataTable) return;\n",
              "\n",
              "          const docLinkHtml = 'Like what you see? Visit the ' +\n",
              "            '<a target=\"_blank\" href=https://colab.research.google.com/notebooks/data_table.ipynb>data table notebook</a>'\n",
              "            + ' to learn more about interactive tables.';\n",
              "          element.innerHTML = '';\n",
              "          dataTable['output_type'] = 'display_data';\n",
              "          await google.colab.output.renderOutput(dataTable, element);\n",
              "          const docLink = document.createElement('div');\n",
              "          docLink.innerHTML = docLinkHtml;\n",
              "          element.appendChild(docLink);\n",
              "        }\n",
              "      </script>\n",
              "    </div>\n",
              "  </div>\n",
              "  "
            ]
          },
          "metadata": {},
          "execution_count": 15
        }
      ],
      "source": [
        "%matplotlib inline\n",
        "\n",
        "import itertools\n",
        "import numpy as np\n",
        "import matplotlib.pyplot as plt\n",
        "import matplotlib.animation as anim\n",
        "import tqdm.notebook as tqdm\n",
        "import pandas as pd\n",
        "\n",
        "def sky130_simulate_op(cell, bias, ws, ls):\n",
        "  for w, l in itertools.product(ws, ls):\n",
        "    circuit = sky130_circuit(cell, bias, w=w, l=l)\n",
        "    simulator = circuit.simulator(temperature=25, nominal_temperature=25)\n",
        "    analysis = simulator.operating_point()\n",
        "    id = u_mA(-analysis.Vdrain)\n",
        "    yield w, l, float(id[0])\n",
        "\n",
        "ws = [10]\n",
        "ls = [0.15, 0.17, 0.18, 0.19, 0.24, 0.25, 0.26, 0.4, 0.5, 0.6, 0.9, 1, 1.1, 1.9, 2, 2.1, 3.9, 4, 4.1, 7, 8, 9, 15, 20, 25, 90, 100]\n",
        "\n",
        "values = tqdm.tqdm(\n",
        "    sky130_simulate_op('sky130_fd_pr__nfet_01v8', 1.8, ws, ls),\n",
        "    total=len(ws)*len(ls)\n",
        ")\n",
        "values = list(values)\n",
        "df = pd.DataFrame.from_records(values, columns=('W', 'L', 'ID'))\n",
        "df"
      ]
    },
    {
      "cell_type": "code",
      "source": [
        "%matplotlib inline\n",
        "\n",
        "import matplotlib.pyplot as plt\n",
        "\n",
        "ax = df.plot(x='L', y='ID')\n",
        "ax.grid()\n",
        "ax.set_xlabel('L [uM] (log)')\n",
        "ax.set_ylabel('Id [mA] (log)')\n",
        "ax.set_xscale('log')\n",
        "ax.set_yscale('log')\n",
        "ax"
      ],
      "metadata": {
        "id": "0dZxZFhJZFxR",
        "colab": {
          "base_uri": "https://localhost:8080/",
          "height": 302
        },
        "outputId": "15d6644e-0461-42cd-9d72-ed2e9f330aaa"
      },
      "execution_count": null,
      "outputs": [
        {
          "output_type": "execute_result",
          "data": {
            "text/plain": [
              "<matplotlib.axes._subplots.AxesSubplot at 0x7f990769d390>"
            ]
          },
          "metadata": {},
          "execution_count": 21
        },
        {
          "output_type": "display_data",
          "data": {
            "text/plain": [
              "<Figure size 432x288 with 1 Axes>"
            ],
            "image/png": "[encoded data removed]"
          },
          "metadata": {
            "needs_background": "light"
          }
        }
      ]
    }
  ],
  "metadata": {
    "colab": {
      "collapsed_sections": [
        "nnYuGJqje4BF"
      ],
      "provenance": [],
      "include_colab_link": true
    },
    "kernelspec": {
      "display_name": "Python 3 (ipykernel)",
      "language": "python",
      "name": "python3"
    },
    "language_info": {
      "codemirror_mode": {
        "name": "ipython",
        "version": 3
      },
      "file_extension": ".py",
      "mimetype": "text/x-python",
      "name": "python",
      "nbconvert_exporter": "python",
      "pygments_lexer": "ipython3",
      "version": "3.7.10"
    },
    "widgets": {
      "application/vnd.jupyter.widget-state+json": {
        "478f6dc83acf4691833eb0759f70c2f0": {
          "model_module": "@jupyter-widgets/controls",
          "model_name": "ButtonModel",
          "model_module_version": "1.5.0",
          "state": {
            "_dom_classes": [],
            "_model_module": "@jupyter-widgets/controls",
            "_model_module_version": "1.5.0",
            "_model_name": "ButtonModel",
            "_view_count": null,
            "_view_module": "@jupyter-widgets/controls",
            "_view_module_version": "1.5.0",
            "_view_name": "ButtonView",
            "button_style": "",
            "description": "Restart kernel now...",
            "disabled": false,
            "icon": "",
            "layout": "IPY_MODEL_c5be23d51e5c4ae1ab382fd61929345a",
            "style": "IPY_MODEL_d87cd3e4a97d4063bd321ce131ac8285",
            "tooltip": ""
          }
        },
        "c5be23d51e5c4ae1ab382fd61929345a": {
          "model_module": "@jupyter-widgets/base",
          "model_name": "LayoutModel",
          "model_module_version": "1.2.0",
          "state": {
            "_model_module": "@jupyter-widgets/base",
            "_model_module_version": "1.2.0",
            "_model_name": "LayoutModel",
            "_view_count": null,
            "_view_module": "@jupyter-widgets/base",
            "_view_module_version": "1.2.0",
            "_view_name": "LayoutView",
            "align_content": null,
            "align_items": null,
            "align_self": null,
            "border": null,
            "bottom": null,
            "display": null,
            "flex": null,
            "flex_flow": null,
            "grid_area": null,
            "grid_auto_columns": null,
            "grid_auto_flow": null,
            "grid_auto_rows": null,
            "grid_column": null,
            "grid_gap": null,
            "grid_row": null,
            "grid_template_areas": null,
            "grid_template_columns": null,
            "grid_template_rows": null,
            "height": null,
            "justify_content": null,
            "justify_items": null,
            "left": null,
            "margin": null,
            "max_height": null,
            "max_width": null,
            "min_height": null,
            "min_width": null,
            "object_fit": null,
            "object_position": null,
            "order": null,
            "overflow": null,
            "overflow_x": null,
            "overflow_y": null,
            "padding": null,
            "right": null,
            "top": null,
            "visibility": null,
            "width": null
          }
        },
        "d87cd3e4a97d4063bd321ce131ac8285": {
          "model_module": "@jupyter-widgets/controls",
          "model_name": "ButtonStyleModel",
          "model_module_version": "1.5.0",
          "state": {
            "_model_module": "@jupyter-widgets/controls",
            "_model_module_version": "1.5.0",
            "_model_name": "ButtonStyleModel",
            "_view_count": null,
            "_view_module": "@jupyter-widgets/base",
            "_view_module_version": "1.2.0",
            "_view_name": "StyleView",
            "button_color": null,
            "font_weight": ""
          }
        },
        "5f5b37c7f33e462b83761bd30cdef2b1": {
          "model_module": "@jupyter-widgets/output",
          "model_name": "OutputModel",
          "model_module_version": "1.0.0",
          "state": {
            "_dom_classes": [],
            "_model_module": "@jupyter-widgets/output",
            "_model_module_version": "1.0.0",
            "_model_name": "OutputModel",
            "_view_count": null,
            "_view_module": "@jupyter-widgets/output",
            "_view_module_version": "1.0.0",
            "_view_name": "OutputView",
            "layout": "IPY_MODEL_9940cd0b302c4357ba7b25992543c416",
            "msg_id": "",
            "outputs": [
              {
                "output_type": "stream",
                "name": "stdout",
                "text": [
                  "Kernel restarted!\n"
                ]
              }
            ]
          }
        },
        "9940cd0b302c4357ba7b25992543c416": {
          "model_module": "@jupyter-widgets/base",
          "model_name": "LayoutModel",
          "model_module_version": "1.2.0",
          "state": {
            "_model_module": "@jupyter-widgets/base",
            "_model_module_version": "1.2.0",
            "_model_name": "LayoutModel",
            "_view_count": null,
            "_view_module": "@jupyter-widgets/base",
            "_view_module_version": "1.2.0",
            "_view_name": "LayoutView",
            "align_content": null,
            "align_items": null,
            "align_self": null,
            "border": "1px solid black",
            "bottom": null,
            "display": null,
            "flex": null,
            "flex_flow": null,
            "grid_area": null,
            "grid_auto_columns": null,
            "grid_auto_flow": null,
            "grid_auto_rows": null,
            "grid_column": null,
            "grid_gap": null,
            "grid_row": null,
            "grid_template_areas": null,
            "grid_template_columns": null,
            "grid_template_rows": null,
            "height": null,
            "justify_content": null,
            "justify_items": null,
            "left": null,
            "margin": null,
            "max_height": null,
            "max_width": null,
            "min_height": null,
            "min_width": null,
            "object_fit": null,
            "object_position": null,
            "order": null,
            "overflow": null,
            "overflow_x": null,
            "overflow_y": null,
            "padding": null,
            "right": null,
            "top": null,
            "visibility": null,
            "width": null
          }
        },
        "87b632a5e19e48c797d0d8474f64c26f": {
          "model_module": "@jupyter-widgets/controls",
          "model_name": "HBoxModel",
          "model_module_version": "1.5.0",
          "state": {
            "_dom_classes": [],
            "_model_module": "@jupyter-widgets/controls",
            "_model_module_version": "1.5.0",
            "_model_name": "HBoxModel",
            "_view_count": null,
            "_view_module": "@jupyter-widgets/controls",
            "_view_module_version": "1.5.0",
            "_view_name": "HBoxView",
            "box_style": "",
            "children": [
              "IPY_MODEL_fef04e8356c146828aa258023f408dee",
              "IPY_MODEL_3d9e374cd6444878a71183ee577df139",
              "IPY_MODEL_0a2f6da3c405400dbf42e05453fc056a"
            ],
            "layout": "IPY_MODEL_e94e03b1788f40e1a59e8cbd622f8e91"
          }
        },
        "fef04e8356c146828aa258023f408dee": {
          "model_module": "@jupyter-widgets/controls",
          "model_name": "HTMLModel",
          "model_module_version": "1.5.0",
          "state": {
            "_dom_classes": [],
            "_model_module": "@jupyter-widgets/controls",
            "_model_module_version": "1.5.0",
            "_model_name": "HTMLModel",
            "_view_count": null,
            "_view_module": "@jupyter-widgets/controls",
            "_view_module_version": "1.5.0",
            "_view_name": "HTMLView",
            "description": "",
            "description_tooltip": null,
            "layout": "IPY_MODEL_e47dccf1243c4c75850f8797387a402b",
            "placeholder": "​",
            "style": "IPY_MODEL_a2edfb6cbed54f01aee1f1ece17baa4f",
            "value": "100%"
          }
        },
        "3d9e374cd6444878a71183ee577df139": {
          "model_module": "@jupyter-widgets/controls",
          "model_name": "FloatProgressModel",
          "model_module_version": "1.5.0",
          "state": {
            "_dom_classes": [],
            "_model_module": "@jupyter-widgets/controls",
            "_model_module_version": "1.5.0",
            "_model_name": "FloatProgressModel",
            "_view_count": null,
            "_view_module": "@jupyter-widgets/controls",
            "_view_module_version": "1.5.0",
            "_view_name": "ProgressView",
            "bar_style": "success",
            "description": "",
            "description_tooltip": null,
            "layout": "IPY_MODEL_ce2268e57bbe42baaea9dbd8f901bac8",
            "max": 6,
            "min": 0,
            "orientation": "horizontal",
            "style": "IPY_MODEL_cdf29856a956477f83f64b8726823215",
            "value": 6
          }
        },
        "0a2f6da3c405400dbf42e05453fc056a": {
          "model_module": "@jupyter-widgets/controls",
          "model_name": "HTMLModel",
          "model_module_version": "1.5.0",
          "state": {
            "_dom_classes": [],
            "_model_module": "@jupyter-widgets/controls",
            "_model_module_version": "1.5.0",
            "_model_name": "HTMLModel",
            "_view_count": null,
            "_view_module": "@jupyter-widgets/controls",
            "_view_module_version": "1.5.0",
            "_view_name": "HTMLView",
            "description": "",
            "description_tooltip": null,
            "layout": "IPY_MODEL_bd6eaa91b8964ecf8537834ed0df2839",
            "placeholder": "​",
            "style": "IPY_MODEL_1b6f1157a1084035b0d26d8a6005ebf3",
            "value": " 6/6 [01:15&lt;00:00, 12.39s/it]"
          }
        },
        "e94e03b1788f40e1a59e8cbd622f8e91": {
          "model_module": "@jupyter-widgets/base",
          "model_name": "LayoutModel",
          "model_module_version": "1.2.0",
          "state": {
            "_model_module": "@jupyter-widgets/base",
            "_model_module_version": "1.2.0",
            "_model_name": "LayoutModel",
            "_view_count": null,
            "_view_module": "@jupyter-widgets/base",
            "_view_module_version": "1.2.0",
            "_view_name": "LayoutView",
            "align_content": null,
            "align_items": null,
            "align_self": null,
            "border": null,
            "bottom": null,
            "display": null,
            "flex": null,
            "flex_flow": null,
            "grid_area": null,
            "grid_auto_columns": null,
            "grid_auto_flow": null,
            "grid_auto_rows": null,
            "grid_column": null,
            "grid_gap": null,
            "grid_row": null,
            "grid_template_areas": null,
            "grid_template_columns": null,
            "grid_template_rows": null,
            "height": null,
            "justify_content": null,
            "justify_items": null,
            "left": null,
            "margin": null,
            "max_height": null,
            "max_width": null,
            "min_height": null,
            "min_width": null,
            "object_fit": null,
            "object_position": null,
            "order": null,
            "overflow": null,
            "overflow_x": null,
            "overflow_y": null,
            "padding": null,
            "right": null,
            "top": null,
            "visibility": null,
            "width": null
          }
        },
        "e47dccf1243c4c75850f8797387a402b": {
          "model_module": "@jupyter-widgets/base",
          "model_name": "LayoutModel",
          "model_module_version": "1.2.0",
          "state": {
            "_model_module": "@jupyter-widgets/base",
            "_model_module_version": "1.2.0",
            "_model_name": "LayoutModel",
            "_view_count": null,
            "_view_module": "@jupyter-widgets/base",
            "_view_module_version": "1.2.0",
            "_view_name": "LayoutView",
            "align_content": null,
            "align_items": null,
            "align_self": null,
            "border": null,
            "bottom": null,
            "display": null,
            "flex": null,
            "flex_flow": null,
            "grid_area": null,
            "grid_auto_columns": null,
            "grid_auto_flow": null,
            "grid_auto_rows": null,
            "grid_column": null,
            "grid_gap": null,
            "grid_row": null,
            "grid_template_areas": null,
            "grid_template_columns": null,
            "grid_template_rows": null,
            "height": null,
            "justify_content": null,
            "justify_items": null,
            "left": null,
            "margin": null,
            "max_height": null,
            "max_width": null,
            "min_height": null,
            "min_width": null,
            "object_fit": null,
            "object_position": null,
            "order": null,
            "overflow": null,
            "overflow_x": null,
            "overflow_y": null,
            "padding": null,
            "right": null,
            "top": null,
            "visibility": null,
            "width": null
          }
        },
        "a2edfb6cbed54f01aee1f1ece17baa4f": {
          "model_module": "@jupyter-widgets/controls",
          "model_name": "DescriptionStyleModel",
          "model_module_version": "1.5.0",
          "state": {
            "_model_module": "@jupyter-widgets/controls",
            "_model_module_version": "1.5.0",
            "_model_name": "DescriptionStyleModel",
            "_view_count": null,
            "_view_module": "@jupyter-widgets/base",
            "_view_module_version": "1.2.0",
            "_view_name": "StyleView",
            "description_width": ""
          }
        },
        "ce2268e57bbe42baaea9dbd8f901bac8": {
          "model_module": "@jupyter-widgets/base",
          "model_name": "LayoutModel",
          "model_module_version": "1.2.0",
          "state": {
            "_model_module": "@jupyter-widgets/base",
            "_model_module_version": "1.2.0",
            "_model_name": "LayoutModel",
            "_view_count": null,
            "_view_module": "@jupyter-widgets/base",
            "_view_module_version": "1.2.0",
            "_view_name": "LayoutView",
            "align_content": null,
            "align_items": null,
            "align_self": null,
            "border": null,
            "bottom": null,
            "display": null,
            "flex": null,
            "flex_flow": null,
            "grid_area": null,
            "grid_auto_columns": null,
            "grid_auto_flow": null,
            "grid_auto_rows": null,
            "grid_column": null,
            "grid_gap": null,
            "grid_row": null,
            "grid_template_areas": null,
            "grid_template_columns": null,
            "grid_template_rows": null,
            "height": null,
            "justify_content": null,
            "justify_items": null,
            "left": null,
            "margin": null,
            "max_height": null,
            "max_width": null,
            "min_height": null,
            "min_width": null,
            "object_fit": null,
            "object_position": null,
            "order": null,
            "overflow": null,
            "overflow_x": null,
            "overflow_y": null,
            "padding": null,
            "right": null,
            "top": null,
            "visibility": null,
            "width": null
          }
        },
        "cdf29856a956477f83f64b8726823215": {
          "model_module": "@jupyter-widgets/controls",
          "model_name": "ProgressStyleModel",
          "model_module_version": "1.5.0",
          "state": {
            "_model_module": "@jupyter-widgets/controls",
            "_model_module_version": "1.5.0",
            "_model_name": "ProgressStyleModel",
            "_view_count": null,
            "_view_module": "@jupyter-widgets/base",
            "_view_module_version": "1.2.0",
            "_view_name": "StyleView",
            "bar_color": null,
            "description_width": ""
          }
        },
        "bd6eaa91b8964ecf8537834ed0df2839": {
          "model_module": "@jupyter-widgets/base",
          "model_name": "LayoutModel",
          "model_module_version": "1.2.0",
          "state": {
            "_model_module": "@jupyter-widgets/base",
            "_model_module_version": "1.2.0",
            "_model_name": "LayoutModel",
            "_view_count": null,
            "_view_module": "@jupyter-widgets/base",
            "_view_module_version": "1.2.0",
            "_view_name": "LayoutView",
            "align_content": null,
            "align_items": null,
            "align_self": null,
            "border": null,
            "bottom": null,
            "display": null,
            "flex": null,
            "flex_flow": null,
            "grid_area": null,
            "grid_auto_columns": null,
            "grid_auto_flow": null,
            "grid_auto_rows": null,
            "grid_column": null,
            "grid_gap": null,
            "grid_row": null,
            "grid_template_areas": null,
            "grid_template_columns": null,
            "grid_template_rows": null,
            "height": null,
            "justify_content": null,
            "justify_items": null,
            "left": null,
            "margin": null,
            "max_height": null,
            "max_width": null,
            "min_height": null,
            "min_width": null,
            "object_fit": null,
            "object_position": null,
            "order": null,
            "overflow": null,
            "overflow_x": null,
            "overflow_y": null,
            "padding": null,
            "right": null,
            "top": null,
            "visibility": null,
            "width": null
          }
        },
        "1b6f1157a1084035b0d26d8a6005ebf3": {
          "model_module": "@jupyter-widgets/controls",
          "model_name": "DescriptionStyleModel",
          "model_module_version": "1.5.0",
          "state": {
            "_model_module": "@jupyter-widgets/controls",
            "_model_module_version": "1.5.0",
            "_model_name": "DescriptionStyleModel",
            "_view_count": null,
            "_view_module": "@jupyter-widgets/base",
            "_view_module_version": "1.2.0",
            "_view_name": "StyleView",
            "description_width": ""
          }
        },
        "c6671669a12d4326982360ae0b60a8b4": {
          "model_module": "@jupyter-widgets/controls",
          "model_name": "HBoxModel",
          "model_module_version": "1.5.0",
          "state": {
            "_dom_classes": [],
            "_model_module": "@jupyter-widgets/controls",
            "_model_module_version": "1.5.0",
            "_model_name": "HBoxModel",
            "_view_count": null,
            "_view_module": "@jupyter-widgets/controls",
            "_view_module_version": "1.5.0",
            "_view_name": "HBoxView",
            "box_style": "",
            "children": [
              "IPY_MODEL_768c0e2b292d4ffb9058fa219394468f",
              "IPY_MODEL_66a1bb73330b472aaf0d2e6d84bca23d",
              "IPY_MODEL_a0408b69b6de4a35952495371ada07c1"
            ],
            "layout": "IPY_MODEL_7997e828384247509de2585488224bbe"
          }
        },
        "768c0e2b292d4ffb9058fa219394468f": {
          "model_module": "@jupyter-widgets/controls",
          "model_name": "HTMLModel",
          "model_module_version": "1.5.0",
          "state": {
            "_dom_classes": [],
            "_model_module": "@jupyter-widgets/controls",
            "_model_module_version": "1.5.0",
            "_model_name": "HTMLModel",
            "_view_count": null,
            "_view_module": "@jupyter-widgets/controls",
            "_view_module_version": "1.5.0",
            "_view_name": "HTMLView",
            "description": "",
            "description_tooltip": null,
            "layout": "IPY_MODEL_e1aed4086666454494ef83e976b81aa9",
            "placeholder": "​",
            "style": "IPY_MODEL_f1d306c056c8449d9223cb68f4868c7b",
            "value": "100%"
          }
        },
        "66a1bb73330b472aaf0d2e6d84bca23d": {
          "model_module": "@jupyter-widgets/controls",
          "model_name": "FloatProgressModel",
          "model_module_version": "1.5.0",
          "state": {
            "_dom_classes": [],
            "_model_module": "@jupyter-widgets/controls",
            "_model_module_version": "1.5.0",
            "_model_name": "FloatProgressModel",
            "_view_count": null,
            "_view_module": "@jupyter-widgets/controls",
            "_view_module_version": "1.5.0",
            "_view_name": "ProgressView",
            "bar_style": "success",
            "description": "",
            "description_tooltip": null,
            "layout": "IPY_MODEL_eb723af80dfd40f3b725a7ca5c38436e",
            "max": 27,
            "min": 0,
            "orientation": "horizontal",
            "style": "IPY_MODEL_7230f579de5f43f5ba8f220843eba3a5",
            "value": 27
          }
        },
        "a0408b69b6de4a35952495371ada07c1": {
          "model_module": "@jupyter-widgets/controls",
          "model_name": "HTMLModel",
          "model_module_version": "1.5.0",
          "state": {
            "_dom_classes": [],
            "_model_module": "@jupyter-widgets/controls",
            "_model_module_version": "1.5.0",
            "_model_name": "HTMLModel",
            "_view_count": null,
            "_view_module": "@jupyter-widgets/controls",
            "_view_module_version": "1.5.0",
            "_view_name": "HTMLView",
            "description": "",
            "description_tooltip": null,
            "layout": "IPY_MODEL_89d39094f0da4e05bd46462d1e5c0479",
            "placeholder": "​",
            "style": "IPY_MODEL_19e589cf45c34f92974a91ec1b2efda0",
            "value": " 27/27 [06:06&lt;00:00, 13.44s/it]"
          }
        },
        "7997e828384247509de2585488224bbe": {
          "model_module": "@jupyter-widgets/base",
          "model_name": "LayoutModel",
          "model_module_version": "1.2.0",
          "state": {
            "_model_module": "@jupyter-widgets/base",
            "_model_module_version": "1.2.0",
            "_model_name": "LayoutModel",
            "_view_count": null,
            "_view_module": "@jupyter-widgets/base",
            "_view_module_version": "1.2.0",
            "_view_name": "LayoutView",
            "align_content": null,
            "align_items": null,
            "align_self": null,
            "border": null,
            "bottom": null,
            "display": null,
            "flex": null,
            "flex_flow": null,
            "grid_area": null,
            "grid_auto_columns": null,
            "grid_auto_flow": null,
            "grid_auto_rows": null,
            "grid_column": null,
            "grid_gap": null,
            "grid_row": null,
            "grid_template_areas": null,
            "grid_template_columns": null,
            "grid_template_rows": null,
            "height": null,
            "justify_content": null,
            "justify_items": null,
            "left": null,
            "margin": null,
            "max_height": null,
            "max_width": null,
            "min_height": null,
            "min_width": null,
            "object_fit": null,
            "object_position": null,
            "order": null,
            "overflow": null,
            "overflow_x": null,
            "overflow_y": null,
            "padding": null,
            "right": null,
            "top": null,
            "visibility": null,
            "width": null
          }
        },
        "e1aed4086666454494ef83e976b81aa9": {
          "model_module": "@jupyter-widgets/base",
          "model_name": "LayoutModel",
          "model_module_version": "1.2.0",
          "state": {
            "_model_module": "@jupyter-widgets/base",
            "_model_module_version": "1.2.0",
            "_model_name": "LayoutModel",
            "_view_count": null,
            "_view_module": "@jupyter-widgets/base",
            "_view_module_version": "1.2.0",
            "_view_name": "LayoutView",
            "align_content": null,
            "align_items": null,
            "align_self": null,
            "border": null,
            "bottom": null,
            "display": null,
            "flex": null,
            "flex_flow": null,
            "grid_area": null,
            "grid_auto_columns": null,
            "grid_auto_flow": null,
            "grid_auto_rows": null,
            "grid_column": null,
            "grid_gap": null,
            "grid_row": null,
            "grid_template_areas": null,
            "grid_template_columns": null,
            "grid_template_rows": null,
            "height": null,
            "justify_content": null,
            "justify_items": null,
            "left": null,
            "margin": null,
            "max_height": null,
            "max_width": null,
            "min_height": null,
            "min_width": null,
            "object_fit": null,
            "object_position": null,
            "order": null,
            "overflow": null,
            "overflow_x": null,
            "overflow_y": null,
            "padding": null,
            "right": null,
            "top": null,
            "visibility": null,
            "width": null
          }
        },
        "f1d306c056c8449d9223cb68f4868c7b": {
          "model_module": "@jupyter-widgets/controls",
          "model_name": "DescriptionStyleModel",
          "model_module_version": "1.5.0",
          "state": {
            "_model_module": "@jupyter-widgets/controls",
            "_model_module_version": "1.5.0",
            "_model_name": "DescriptionStyleModel",
            "_view_count": null,
            "_view_module": "@jupyter-widgets/base",
            "_view_module_version": "1.2.0",
            "_view_name": "StyleView",
            "description_width": ""
          }
        },
        "eb723af80dfd40f3b725a7ca5c38436e": {
          "model_module": "@jupyter-widgets/base",
          "model_name": "LayoutModel",
          "model_module_version": "1.2.0",
          "state": {
            "_model_module": "@jupyter-widgets/base",
            "_model_module_version": "1.2.0",
            "_model_name": "LayoutModel",
            "_view_count": null,
            "_view_module": "@jupyter-widgets/base",
            "_view_module_version": "1.2.0",
            "_view_name": "LayoutView",
            "align_content": null,
            "align_items": null,
            "align_self": null,
            "border": null,
            "bottom": null,
            "display": null,
            "flex": null,
            "flex_flow": null,
            "grid_area": null,
            "grid_auto_columns": null,
            "grid_auto_flow": null,
            "grid_auto_rows": null,
            "grid_column": null,
            "grid_gap": null,
            "grid_row": null,
            "grid_template_areas": null,
            "grid_template_columns": null,
            "grid_template_rows": null,
            "height": null,
            "justify_content": null,
            "justify_items": null,
            "left": null,
            "margin": null,
            "max_height": null,
            "max_width": null,
            "min_height": null,
            "min_width": null,
            "object_fit": null,
            "object_position": null,
            "order": null,
            "overflow": null,
            "overflow_x": null,
            "overflow_y": null,
            "padding": null,
            "right": null,
            "top": null,
            "visibility": null,
            "width": null
          }
        },
        "7230f579de5f43f5ba8f220843eba3a5": {
          "model_module": "@jupyter-widgets/controls",
          "model_name": "ProgressStyleModel",
          "model_module_version": "1.5.0",
          "state": {
            "_model_module": "@jupyter-widgets/controls",
            "_model_module_version": "1.5.0",
            "_model_name": "ProgressStyleModel",
            "_view_count": null,
            "_view_module": "@jupyter-widgets/base",
            "_view_module_version": "1.2.0",
            "_view_name": "StyleView",
            "bar_color": null,
            "description_width": ""
          }
        },
        "89d39094f0da4e05bd46462d1e5c0479": {
          "model_module": "@jupyter-widgets/base",
          "model_name": "LayoutModel",
          "model_module_version": "1.2.0",
          "state": {
            "_model_module": "@jupyter-widgets/base",
            "_model_module_version": "1.2.0",
            "_model_name": "LayoutModel",
            "_view_count": null,
            "_view_module": "@jupyter-widgets/base",
            "_view_module_version": "1.2.0",
            "_view_name": "LayoutView",
            "align_content": null,
            "align_items": null,
            "align_self": null,
            "border": null,
            "bottom": null,
            "display": null,
            "flex": null,
            "flex_flow": null,
            "grid_area": null,
            "grid_auto_columns": null,
            "grid_auto_flow": null,
            "grid_auto_rows": null,
            "grid_column": null,
            "grid_gap": null,
            "grid_row": null,
            "grid_template_areas": null,
            "grid_template_columns": null,
            "grid_template_rows": null,
            "height": null,
            "justify_content": null,
            "justify_items": null,
            "left": null,
            "margin": null,
            "max_height": null,
            "max_width": null,
            "min_height": null,
            "min_width": null,
            "object_fit": null,
            "object_position": null,
            "order": null,
            "overflow": null,
            "overflow_x": null,
            "overflow_y": null,
            "padding": null,
            "right": null,
            "top": null,
            "visibility": null,
            "width": null
          }
        },
        "19e589cf45c34f92974a91ec1b2efda0": {
          "model_module": "@jupyter-widgets/controls",
          "model_name": "DescriptionStyleModel",
          "model_module_version": "1.5.0",
          "state": {
            "_model_module": "@jupyter-widgets/controls",
            "_model_module_version": "1.5.0",
            "_model_name": "DescriptionStyleModel",
            "_view_count": null,
            "_view_module": "@jupyter-widgets/base",
            "_view_module_version": "1.2.0",
            "_view_name": "StyleView",
            "description_width": ""
          }
        }
      }
    }
  },
  "nbformat": 4,
  "nbformat_minor": 0
}